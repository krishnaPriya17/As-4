{
 "cells": [
  {
   "cell_type": "code",
   "execution_count": null,
   "metadata": {},
   "outputs": [],
   "source": [
    "#Write a Python Program(with class concepts) to find the area of the triangle using the below formula. \n",
    " \n",
    "area = (s*(s-a)*(s-b)*(s-c)) ** 0.5 \n",
    " \n",
    "Function to take the length of the sides of triangle from user should be defined in the parent class and function to calculate the area should be defined in subclass. \n"
   ]
  },
  {
   "cell_type": "code",
   "execution_count": 1,
   "metadata": {},
   "outputs": [
    {
     "name": "stdout",
     "output_type": "stream",
     "text": [
      " enter values9\n",
      " enter values10\n",
      " enter values11\n"
     ]
    },
    {
     "data": {
      "text/plain": [
       "42.42640687119285"
      ]
     },
     "execution_count": 1,
     "metadata": {},
     "output_type": "execute_result"
    }
   ],
   "source": [
    "class pc:\n",
    "    def __init__(self,*args):\n",
    "        self.a =float(a)\n",
    "        self.b = float(b)\n",
    "        self.c =float(c)\n",
    "a=int(input(\" enter values\"))\n",
    "b=int(input(\" enter values\"))\n",
    "c=int(input(\" enter values\"))\n",
    "class cc(pc):\n",
    "    def __init__(self,a,b,c):\n",
    "        super().__init__(a,b,c)\n",
    "        \n",
    "    def area (self):\n",
    "        s= (a+b+c)/2\n",
    "        return (s*(s-a)*(s-b)*(s-c)) ** 0.5\n",
    "\n",
    "i=cc(a,b,c)    \n",
    "i.area()"
   ]
  },
  {
   "cell_type": "code",
   "execution_count": 7,
   "metadata": {},
   "outputs": [],
   "source": [
    "# wa function filter_long_words() that takes  a list of words  and an integr n   returns the list of words\n",
    "#that are longer than n"
   ]
  },
  {
   "cell_type": "code",
   "execution_count": 4,
   "metadata": {},
   "outputs": [
    {
     "name": "stdout",
     "output_type": "stream",
     "text": [
      "enter num!!3\n",
      "['krishna', 'priya']\n"
     ]
    }
   ],
   "source": [
    "def longwords(wordslist):\n",
    "    n=int(input(\"enter num!!\"))\n",
    "    a=[]\n",
    "    for i in wordslist:\n",
    "        if len(i)> n:\n",
    "            a.append(i)\n",
    "    print(a)    \n",
    "l=['krishna','sp','priya']    \n",
    "longwords(l)"
   ]
  },
  {
   "cell_type": "code",
   "execution_count": 1,
   "metadata": {},
   "outputs": [
    {
     "data": {
      "text/plain": [
       "['this should']"
      ]
     },
     "execution_count": 1,
     "metadata": {},
     "output_type": "execute_result"
    }
   ],
   "source": [
    "# write a function filter_long_words() that takes  a list of words  and an integr n   returns the list of words that are longer than n\n",
    "def filter_long_words(words, n):\n",
    "    return filter(lambda x: len(x) > n, words)\n",
    "\n",
    "\n",
    "list(filter_long_words(['test', 'not', 'this should'], 5))"
   ]
  },
  {
   "cell_type": "code",
   "execution_count": 3,
   "metadata": {},
   "outputs": [],
   "source": [
    "#Write a Python program using function concept that maps list of words into a list of integers representing the lengths of \n",
    "#the corresponding words. \n",
    " \n",
    "#Hint: If a list [ ab,cde,erty] is passed on to the python function output should come as [2,3,4] \n",
    " \n",
    "#Here 2,3 and 4 are the lengths of the words in the list. \n"
   ]
  },
  {
   "cell_type": "code",
   "execution_count": 2,
   "metadata": {},
   "outputs": [
    {
     "name": "stdout",
     "output_type": "stream",
     "text": [
      "l['mani', 'krishna', 'priyanka', 'sri']\n",
      "numm[4, 7, 8, 3]\n"
     ]
    }
   ],
   "source": [
    "l=['mani','krishna','priyanka','sri']\n",
    "num=[]\n",
    "for  i in range(len(l)):\n",
    "    num.append(len(l[i]))\n",
    "print(\"l\"+str(l))    \n",
    "print(\"numm\"+str(num))"
   ]
  },
  {
   "cell_type": "code",
   "execution_count": 4,
   "metadata": {},
   "outputs": [],
   "source": [
    "#2.2 Write a Python function which takes a character (i.e. a string of length 1)\n",
    "#and returns True if it is a vowel, False otherwise. "
   ]
  },
  {
   "cell_type": "code",
   "execution_count": 21,
   "metadata": {},
   "outputs": [
    {
     "name": "stdout",
     "output_type": "stream",
     "text": [
      "enter a characterA\n"
     ]
    },
    {
     "data": {
      "text/plain": [
       "True"
      ]
     },
     "execution_count": 21,
     "metadata": {},
     "output_type": "execute_result"
    }
   ],
   "source": [
    "def vowel(string):\n",
    "    lower=['a','e','i','o','u']\n",
    "    upper=['A','E','I','O','U']\n",
    "    for i in str(string):\n",
    "        if (i in lower) or (i in upper):\n",
    "            return True\n",
    "        else:\n",
    "            return False\n",
    "s=input(\"enter a character\")      \n",
    "vowel(s)"
   ]
  },
  {
   "cell_type": "code",
   "execution_count": null,
   "metadata": {},
   "outputs": [],
   "source": []
  }
 ],
 "metadata": {
  "kernelspec": {
   "display_name": "Python 3",
   "language": "python",
   "name": "python3"
  },
  "language_info": {
   "codemirror_mode": {
    "name": "ipython",
    "version": 3
   },
   "file_extension": ".py",
   "mimetype": "text/x-python",
   "name": "python",
   "nbconvert_exporter": "python",
   "pygments_lexer": "ipython3",
   "version": "3.6.5"
  }
 },
 "nbformat": 4,
 "nbformat_minor": 2
}
